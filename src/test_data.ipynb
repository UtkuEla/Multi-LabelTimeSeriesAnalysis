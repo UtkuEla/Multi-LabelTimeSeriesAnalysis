{
 "cells": [
  {
   "cell_type": "code",
   "execution_count": 1,
   "metadata": {},
   "outputs": [],
   "source": [
    "import pandas as pd\n",
    "import numpy as np\n",
    "import os"
   ]
  },
  {
   "cell_type": "code",
   "execution_count": 2,
   "metadata": {},
   "outputs": [],
   "source": [
    "current_folder_path = os.getcwd()\n",
    "parent_folder_path = os.path.dirname(current_folder_path)\n",
    "data_save_path = os.path.join(parent_folder_path, 'data')"
   ]
  },
  {
   "cell_type": "code",
   "execution_count": 3,
   "metadata": {},
   "outputs": [],
   "source": [
    "df = pd.read_excel('Multi-faults_Validation.xlsx')\n",
    "df.to_pickle(\"test_df\")"
   ]
  },
  {
   "cell_type": "code",
   "execution_count": 9,
   "metadata": {},
   "outputs": [],
   "source": [
    "df['label'] = df['label'].str.replace(' ', '')\n"
   ]
  },
  {
   "cell_type": "code",
   "execution_count": 15,
   "metadata": {},
   "outputs": [],
   "source": [
    "# Split the dataset based on labels\n",
    "labels = ['Bias+Drift', 'Bias+Gain', 'Bias+Precisiondegradation', 'Bias',\n",
    "       'Bias+Outliers', 'Drift+Gain', 'Drift+Precisiondegradation',\n",
    "       'Drift', 'Drift+Outliers', 'Gain+Precisiondegradation', 'Gain',\n",
    "       'Gain+Outliers', 'Precisiondegradation',\n",
    "       'Precisiondegradation+Outliers']\n",
    "\n",
    "datasets = {}\n",
    "dataframes =[]\n",
    "\n",
    "for label in labels:\n",
    "    datasets[label] = df[df['label'] == label]\n",
    "\n",
    "    # Rename the dataset as df_labelname\n",
    "    globals()[f'df_{label}'] = datasets[label]\n",
    "    dataframes.append(f'df_{label}')\n",
    "    # Optional: Save the dataset to a separate CSV file\n",
    "    #datasets[label].to_csv(data_save_path+ \"/\" +f'df_{label}.csv', index=False)"
   ]
  },
  {
   "cell_type": "code",
   "execution_count": 11,
   "metadata": {},
   "outputs": [],
   "source": [
    "def split_column_into_rows(df, num_columns, overlapping_ratio):\n",
    "    values = df['value'].to_numpy()  # Get the values from the specified column as a NumPy array\n",
    "\n",
    "    # Calculate the number of overlapping elements between adjacent rows\n",
    "    overlapping_elements = int(num_columns * overlapping_ratio / 100)\n",
    "\n",
    "    # Calculate the total number of elements in each row, considering the overlapping elements\n",
    "    row_elements = num_columns - overlapping_elements\n",
    "\n",
    "    # Calculate the number of rows needed\n",
    "    num_rows = (len(values) + row_elements - 1) // row_elements\n",
    "\n",
    "    # Calculate the required number of values to fill the last row\n",
    "    last_row_fill = (num_rows * num_columns) - len(values)\n",
    "\n",
    "    # Extend the values array with zeros if necessary to ensure even splitting\n",
    "    values = np.pad(values, (0, last_row_fill), mode='constant', constant_values=0)\n",
    "\n",
    "    # Reshape the values array into the desired shape with overlapping\n",
    "    new_values = np.zeros((num_rows, num_columns))\n",
    "    for i in range(num_rows):\n",
    "        start = i * row_elements\n",
    "        end = start + num_columns\n",
    "        new_values[i] = values[start:end]\n",
    "\n",
    "    # Convert the new array into a DataFrame\n",
    "    new_df = pd.DataFrame(new_values)\n",
    "\n",
    "    label_name = df.at[0, 'label']\n",
    "    new_df.insert(0,'label',label_name)\n",
    "\n",
    "    return new_df"
   ]
  },
  {
   "cell_type": "code",
   "execution_count": 17,
   "metadata": {},
   "outputs": [
    {
     "name": "stdout",
     "output_type": "stream",
     "text": [
      "(4100, 151)\n"
     ]
    }
   ],
   "source": [
    "test_data = pd.DataFrame()\n",
    "for key in datasets.keys():\n",
    "    # Access the dataframe using the key\n",
    "    df = datasets[key]\n",
    "    df = df.reset_index(drop=True, inplace=False)\n",
    "    df = split_column_into_rows(df,150,10)\n",
    "    df = df.drop(df.index[-1])\n",
    "    test_data = pd.concat([test_data,df])\n",
    "\n",
    "test_data = test_data.reset_index(drop=True, inplace=False)\n",
    "\n",
    "print(test_data.shape)"
   ]
  },
  {
   "cell_type": "code",
   "execution_count": 19,
   "metadata": {},
   "outputs": [],
   "source": [
    "test_labels = test_data['label'].values"
   ]
  },
  {
   "cell_type": "code",
   "execution_count": 20,
   "metadata": {},
   "outputs": [],
   "source": [
    "test_data_values = test_data.drop(columns={'label'})"
   ]
  },
  {
   "cell_type": "code",
   "execution_count": null,
   "metadata": {},
   "outputs": [],
   "source": [
    "test_data_values.to_pickle('test_data_values')\n",
    "test_labels = pd.DataFrame(test_labels)\n",
    "test_labels.to_pickle('test_labels')"
   ]
  }
 ],
 "metadata": {
  "kernelspec": {
   "display_name": "Python 3",
   "language": "python",
   "name": "python3"
  },
  "language_info": {
   "codemirror_mode": {
    "name": "ipython",
    "version": 3
   },
   "file_extension": ".py",
   "mimetype": "text/x-python",
   "name": "python",
   "nbconvert_exporter": "python",
   "pygments_lexer": "ipython3",
   "version": "3.10.4"
  },
  "orig_nbformat": 4
 },
 "nbformat": 4,
 "nbformat_minor": 2
}
